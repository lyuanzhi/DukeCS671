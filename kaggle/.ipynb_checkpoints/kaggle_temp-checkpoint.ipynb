{
 "cells": [
  {
   "cell_type": "markdown",
   "id": "b5d51b54-b66c-4b27-8f52-6ded3de01b29",
   "metadata": {},
   "source": [
    "# Kaggle"
   ]
  },
  {
   "cell_type": "code",
   "execution_count": null,
   "id": "29e5ebd1-9c51-4d26-94d1-a52b631fb039",
   "metadata": {},
   "outputs": [],
   "source": [
    "import os\n",
    "import pandas as pd\n",
    "import numpy as np\n",
    "import torch\n",
    "from torch import nn\n",
    "import torch.nn.functional as F\n",
    "from torch.utils.data import DataLoader, TensorDataset\n",
    "from torch.optim import Adam\n",
    "import random\n",
    "from sklearn.model_selection import train_test_split, GridSearchCV, cross_val_score\n",
    "from category_encoders import BinaryEncoder\n",
    "import ast\n",
    "from xgboost import XGBClassifier\n",
    "from sklearn.ensemble import RandomForestClassifier\n",
    "from sklearn.metrics import accuracy_score\n",
    "from collections import Counter\n",
    "import matplotlib.pyplot as plt\n",
    "from sklearn.preprocessing import OneHotEncoder\n",
    "from sklearn.decomposition import PCA\n",
    "from sklearn.preprocessing import StandardScaler\n",
    "from imblearn.over_sampling import SMOTE\n",
    "from imblearn.pipeline import make_pipeline\n",
    "from sklearn.utils import resample\n",
    "from sklearn.impute import SimpleImputer\n",
    "from sklearn.preprocessing import LabelEncoder\n",
    "files = os.listdir('outputs_temp')\n",
    "cnt = pd.read_csv('outputs_temp/'+files[0])\n",
    "cnt['price'] = -1\n",
    "cnt['0'] = 0\n",
    "cnt['1'] = 0\n",
    "cnt['2'] = 0\n",
    "cnt['3'] = 0\n",
    "cnt['4'] = 0\n",
    "cnt['5'] = 0\n",
    "print(cnt)\n",
    "for i in files:\n",
    "    out = pd.read_csv('outputs_temp/'+i)\n",
    "    for j in out.index:\n",
    "        cnt[str(out['price'][j])][j]+=1\n",
    "print(cnt)"
   ]
  },
  {
   "cell_type": "code",
   "execution_count": null,
   "id": "1ee21697-a23c-4b3a-9630-968c0604d4f3",
   "metadata": {},
   "outputs": [],
   "source": [
    "for j in cnt.index:\n",
    "    cnt['price'][j] = np.argmax([cnt['0'][j], cnt['1'][j],cnt['2'][j],cnt['3'][j],cnt['4'][j],cnt['5'][j]])\n",
    "print(cnt)"
   ]
  },
  {
   "cell_type": "code",
   "execution_count": null,
   "id": "e7dfd2e3-eb13-4de0-bd28-a6ebf49caa7e",
   "metadata": {},
   "outputs": [],
   "source": [
    "cnt = cnt.drop('0', axis=1)\n",
    "cnt = cnt.drop('1', axis=1)\n",
    "cnt = cnt.drop('2', axis=1)\n",
    "cnt = cnt.drop('3', axis=1)\n",
    "cnt = cnt.drop('4', axis=1)\n",
    "cnt = cnt.drop('5', axis=1)\n",
    "print(cnt)"
   ]
  },
  {
   "cell_type": "code",
   "execution_count": null,
   "id": "7d356fd6-5561-4f29-bb90-db943acc579f",
   "metadata": {},
   "outputs": [],
   "source": [
    "cnt.to_csv('output.csv', index=False)"
   ]
  }
 ],
 "metadata": {
  "kernelspec": {
   "display_name": "Python 3 (ipykernel)",
   "language": "python",
   "name": "python3"
  },
  "language_info": {
   "codemirror_mode": {
    "name": "ipython",
    "version": 3
   },
   "file_extension": ".py",
   "mimetype": "text/x-python",
   "name": "python",
   "nbconvert_exporter": "python",
   "pygments_lexer": "ipython3",
   "version": "3.10.11"
  }
 },
 "nbformat": 4,
 "nbformat_minor": 5
}
