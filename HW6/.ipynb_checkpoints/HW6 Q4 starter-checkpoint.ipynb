{
  "nbformat": 4,
  "nbformat_minor": 0,
  "metadata": {
    "colab": {
      "provenance": []
    },
    "kernelspec": {
      "name": "python3",
      "display_name": "Python 3"
    },
    "language_info": {
      "name": "python"
    }
  },
  "cells": [
    {
      "cell_type": "code",
      "execution_count": null,
      "metadata": {
        "colab": {
          "base_uri": "https://localhost:8080/"
        },
        "id": "fkXHBq9Ks_ow",
        "outputId": "85077c7e-6b2f-4055-d702-f19311e9f0e5"
      },
      "outputs": [
        {
          "output_type": "stream",
          "name": "stdout",
          "text": [
            "Requirement already satisfied: torch in /usr/local/lib/python3.10/dist-packages (2.1.0+cu118)\n",
            "Requirement already satisfied: filelock in /usr/local/lib/python3.10/dist-packages (from torch) (3.12.4)\n",
            "Requirement already satisfied: typing-extensions in /usr/local/lib/python3.10/dist-packages (from torch) (4.5.0)\n",
            "Requirement already satisfied: sympy in /usr/local/lib/python3.10/dist-packages (from torch) (1.12)\n",
            "Requirement already satisfied: networkx in /usr/local/lib/python3.10/dist-packages (from torch) (3.2)\n",
            "Requirement already satisfied: jinja2 in /usr/local/lib/python3.10/dist-packages (from torch) (3.1.2)\n",
            "Requirement already satisfied: fsspec in /usr/local/lib/python3.10/dist-packages (from torch) (2023.6.0)\n",
            "Requirement already satisfied: triton==2.1.0 in /usr/local/lib/python3.10/dist-packages (from torch) (2.1.0)\n",
            "Requirement already satisfied: MarkupSafe>=2.0 in /usr/local/lib/python3.10/dist-packages (from jinja2->torch) (2.1.3)\n",
            "Requirement already satisfied: mpmath>=0.19 in /usr/local/lib/python3.10/dist-packages (from sympy->torch) (1.3.0)\n"
          ]
        }
      ],
      "source": [
        "!pip install torch"
      ]
    },
    {
      "cell_type": "code",
      "source": [
        "import torch\n",
        "import torch.nn.functional as F\n",
        "\n",
        "torch.manual_seed(42)\n",
        "height, width, channel = 4, 4, 3\n",
        "num_kernels = 4\n",
        "\n",
        "input = torch.stack([\n",
        "    torch.linspace(0, 1, height*width),\n",
        "    torch.linspace(1, 0, height*width),\n",
        "    torch.linspace(0, 0, height*width),\n",
        "]).view(channel, height, width)\n",
        "\n",
        "kernels = torch.stack([\n",
        "    torch.linspace(0, 1, num_kernels),\n",
        "    torch.linspace(1, 0, num_kernels),\n",
        "    torch.linspace(0, 0, num_kernels),\n",
        "], dim=1).view(num_kernels, channel, 1, 1)"
      ],
      "metadata": {
        "id": "gaE5Eh21XpM2"
      },
      "execution_count": null,
      "outputs": []
    }
  ]
}