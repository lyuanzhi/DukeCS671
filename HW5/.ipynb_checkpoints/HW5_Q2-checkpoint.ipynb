{
 "cells": [
  {
   "cell_type": "code",
   "execution_count": 1,
   "metadata": {
    "id": "vV8Z-_edZoAo",
    "pycharm": {
     "name": "#%%\n"
    }
   },
   "outputs": [],
   "source": [
    "# import necessary dependencies\n",
    "import argparse\n",
    "import os, sys\n",
    "import time\n",
    "import datetime\n",
    "from tqdm import tqdm_notebook as tqdm\n",
    "import numpy as np\n",
    "\n",
    "import torch\n",
    "import torch.nn as nn\n",
    "import torch.nn.functional as F\n",
    "\n",
    "import torch.nn as nn\n",
    "import torch.optim as optim\n",
    "\n",
    "import matplotlib.pyplot as plt\n",
    "\n",
    "import random"
   ]
  },
  {
   "cell_type": "code",
   "execution_count": 2,
   "metadata": {
    "pycharm": {
     "name": "#%%\n"
    }
   },
   "outputs": [],
   "source": [
    "def set_all_seeds(RANDOM_SEED):\n",
    "    random.seed(RANDOM_SEED)     # python random generator\n",
    "    np.random.seed(RANDOM_SEED)  # numpy random generator\n",
    "\n",
    "    torch.manual_seed(RANDOM_SEED)\n",
    "    torch.cuda.manual_seed_all(RANDOM_SEED)\n",
    "\n",
    "    torch.backends.cudnn.deterministic = True\n",
    "    torch.backends.cudnn.benchmark = False\n",
    "set_all_seeds(42)"
   ]
  },
  {
   "cell_type": "code",
   "execution_count": 3,
   "metadata": {
    "id": "BwOSbMuZZoAp",
    "pycharm": {
     "name": "#%%\n"
    }
   },
   "outputs": [],
   "source": [
    "class SimpleCIFAR10Classifier(nn.Module):\n",
    "    def __init__(self):\n",
    "        super(SimpleCIFAR10Classifier, self).__init__()\n",
    "        self.conv1 = nn.Conv2d(3, 8, 5)\n",
    "        self.conv2 = nn.Conv2d(8, 16, 3)\n",
    "        self.fc1   = nn.Linear(16*6*6, 120)\n",
    "        self.fc2   = nn.Linear(120, 84)\n",
    "        self.fc3   = nn.Linear(84, 10)\n",
    "\n",
    "    def forward(self, x):\n",
    "        out = F.relu(self.conv1(x))\n",
    "        out = F.max_pool2d(out, 2)\n",
    "        out = F.relu(self.conv2(out))\n",
    "        out = F.max_pool2d(out, 2)\n",
    "        out = out.view(out.size(0), -1)\n",
    "        out = F.relu(self.fc1(out))\n",
    "        out = F.relu(self.fc2(out))\n",
    "        out = self.fc3(out)\n",
    "        return out"
   ]
  },
  {
   "cell_type": "code",
   "execution_count": 4,
   "metadata": {
    "pycharm": {
     "name": "#%%\n"
    }
   },
   "outputs": [
    {
     "name": "stdout",
     "output_type": "stream",
     "text": [
      "Files already downloaded and verified\n",
      "Files already downloaded and verified\n",
      "50000 5000 5000\n"
     ]
    }
   ],
   "source": [
    "# useful libraries\n",
    "import torchvision\n",
    "import torchvision.transforms as transforms\n",
    "from torch.utils.data import DataLoader\n",
    "\n",
    "\n",
    "transform = transforms.Compose(\n",
    "    [transforms.ToTensor(),\n",
    "     transforms.Normalize((0.5, 0.5, 0.5), (0.5, 0.5, 0.5))])\n",
    "\n",
    "##################\n",
    "# YOUR CODE HERE #\n",
    "##################\n",
    "\n",
    "# adjust batch size to your need\n",
    "batch_size = 64\n",
    "\n",
    "trainset = torchvision.datasets.CIFAR10(root='./data', train=True,\n",
    "                                        download=True, transform=transform)\n",
    "train_loader = torch.utils.data.DataLoader(trainset, batch_size=batch_size,\n",
    "                                          shuffle=True, num_workers=2)\n",
    "\n",
    "testset = torchvision.datasets.CIFAR10(root='./data', train=False,\n",
    "                                       download=True, transform=transform)\n",
    "val_size = int(0.5 * len(testset))\n",
    "test_size = len(testset) - val_size\n",
    "valset, testset = torch.utils.data.random_split(testset, [val_size, test_size])\n",
    "\n",
    "\n",
    "val_loader = torch.utils.data.DataLoader(valset, batch_size=batch_size,\n",
    "                                         shuffle=False, num_workers=2)\n",
    "\n",
    "test_loader = torch.utils.data.DataLoader(testset, batch_size=batch_size,\n",
    "                                         shuffle=False, num_workers=2)\n",
    "\n",
    "print(len(trainset), len(valset), len(testset))"
   ]
  },
  {
   "cell_type": "markdown",
   "metadata": {
    "id": "CJ4YB7QvV098",
    "pycharm": {
     "name": "#%% md\n"
    }
   },
   "source": [
    "# (a)"
   ]
  },
  {
   "cell_type": "code",
   "execution_count": 5,
   "metadata": {
    "colab": {
     "base_uri": "https://localhost:8080/",
     "height": 443
    },
    "id": "iivPVzUvZoAu",
    "outputId": "c8fe0d49-0b93-41aa-b456-ae03ab910a5e",
    "pycharm": {
     "name": "#%%\n"
    },
    "scrolled": true
   },
   "outputs": [
    {
     "name": "stdout",
     "output_type": "stream",
     "text": [
      "Epoch 0:\n",
      "Training loss: 1.8587, Training accuracy: 0.3090\n",
      "Validation loss: 1.5058, Validation accuracy: 0.4594\n",
      "Saving ...\n",
      "\n",
      "Epoch 1:\n",
      "Training loss: 1.3745, Training accuracy: 0.5023\n",
      "Validation loss: 1.3045, Validation accuracy: 0.5366\n",
      "Saving ...\n",
      "\n",
      "Epoch 2:\n",
      "Training loss: 1.1939, Training accuracy: 0.5760\n",
      "Validation loss: 1.1641, Validation accuracy: 0.5888\n",
      "Saving ...\n",
      "\n",
      "Epoch 3:\n",
      "Training loss: 1.0741, Training accuracy: 0.6174\n",
      "Validation loss: 1.1005, Validation accuracy: 0.6140\n",
      "Saving ...\n",
      "\n",
      "Epoch 4:\n",
      "Training loss: 0.9947, Training accuracy: 0.6489\n",
      "Validation loss: 1.0457, Validation accuracy: 0.6350\n",
      "Saving ...\n",
      "\n",
      "Epoch 5:\n",
      "Training loss: 0.9217, Training accuracy: 0.6745\n",
      "Validation loss: 1.0606, Validation accuracy: 0.6342\n",
      "\n",
      "Epoch 6:\n",
      "Training loss: 0.8584, Training accuracy: 0.6966\n",
      "Validation loss: 1.0272, Validation accuracy: 0.6518\n",
      "Saving ...\n",
      "\n",
      "Epoch 7:\n",
      "Training loss: 0.8094, Training accuracy: 0.7156\n",
      "Validation loss: 1.0099, Validation accuracy: 0.6476\n",
      "\n",
      "Epoch 8:\n",
      "Training loss: 0.7581, Training accuracy: 0.7310\n",
      "Validation loss: 1.0078, Validation accuracy: 0.6548\n",
      "Saving ...\n",
      "\n",
      "Epoch 9:\n",
      "Training loss: 0.7111, Training accuracy: 0.7477\n",
      "Validation loss: 1.0560, Validation accuracy: 0.6482\n",
      "\n",
      "Epoch 10:\n",
      "Training loss: 0.6745, Training accuracy: 0.7601\n",
      "Validation loss: 1.0871, Validation accuracy: 0.6482\n",
      "\n",
      "Epoch 11:\n",
      "Training loss: 0.6360, Training accuracy: 0.7736\n",
      "Validation loss: 1.0997, Validation accuracy: 0.6426\n",
      "\n",
      "Epoch 12:\n",
      "Training loss: 0.6000, Training accuracy: 0.7859\n",
      "Validation loss: 1.1334, Validation accuracy: 0.6558\n",
      "Saving ...\n",
      "\n",
      "Epoch 13:\n",
      "Training loss: 0.5781, Training accuracy: 0.7921\n",
      "Validation loss: 1.1609, Validation accuracy: 0.6418\n",
      "\n",
      "Epoch 14:\n",
      "Training loss: 0.5427, Training accuracy: 0.8049\n",
      "Validation loss: 1.2202, Validation accuracy: 0.6306\n",
      "\n",
      "Epoch 15:\n",
      "Training loss: 0.5203, Training accuracy: 0.8129\n",
      "Validation loss: 1.2312, Validation accuracy: 0.6490\n",
      "\n",
      "Epoch 16:\n",
      "Training loss: 0.5012, Training accuracy: 0.8201\n",
      "Validation loss: 1.3026, Validation accuracy: 0.6452\n",
      "\n",
      "Epoch 17:\n",
      "Training loss: 0.4744, Training accuracy: 0.8292\n",
      "Validation loss: 1.2977, Validation accuracy: 0.6468\n",
      "\n",
      "Epoch 18:\n",
      "Training loss: 0.4565, Training accuracy: 0.8365\n",
      "Validation loss: 1.3221, Validation accuracy: 0.6458\n",
      "\n",
      "Epoch 19:\n",
      "Training loss: 0.4412, Training accuracy: 0.8414\n",
      "Validation loss: 1.4556, Validation accuracy: 0.6382\n",
      "\n",
      "Epoch 20:\n",
      "Training loss: 0.4235, Training accuracy: 0.8481\n",
      "Validation loss: 1.5195, Validation accuracy: 0.6318\n",
      "\n",
      "Epoch 21:\n",
      "Training loss: 0.4129, Training accuracy: 0.8513\n",
      "Validation loss: 1.5120, Validation accuracy: 0.6432\n",
      "\n",
      "Epoch 22:\n",
      "Training loss: 0.3956, Training accuracy: 0.8586\n",
      "Validation loss: 1.5268, Validation accuracy: 0.6270\n",
      "\n",
      "Epoch 23:\n",
      "Training loss: 0.3856, Training accuracy: 0.8616\n",
      "Validation loss: 1.6055, Validation accuracy: 0.6316\n",
      "\n",
      "Epoch 24:\n",
      "Training loss: 0.3657, Training accuracy: 0.8709\n",
      "Validation loss: 1.7347, Validation accuracy: 0.6336\n",
      "\n",
      "Epoch 25:\n",
      "Training loss: 0.3621, Training accuracy: 0.8700\n",
      "Validation loss: 1.6591, Validation accuracy: 0.6300\n",
      "\n",
      "Epoch 26:\n",
      "Training loss: 0.3598, Training accuracy: 0.8712\n",
      "Validation loss: 1.7372, Validation accuracy: 0.6390\n",
      "\n",
      "Epoch 27:\n",
      "Training loss: 0.3449, Training accuracy: 0.8761\n",
      "Validation loss: 1.7351, Validation accuracy: 0.6188\n",
      "\n",
      "Epoch 28:\n",
      "Training loss: 0.3367, Training accuracy: 0.8798\n",
      "Validation loss: 1.9336, Validation accuracy: 0.6136\n",
      "\n",
      "Epoch 29:\n",
      "Training loss: 0.3397, Training accuracy: 0.8795\n",
      "Validation loss: 1.8522, Validation accuracy: 0.6248\n",
      "\n",
      "Best validation accuracy: 0.6558\n"
     ]
    }
   ],
   "source": [
    "net = SimpleCIFAR10Classifier().cuda()\n",
    "INITIAL_LR = 0.01\n",
    "MOMENTUM = 0.9\n",
    "criterion = nn.CrossEntropyLoss()\n",
    "optimizer = optim.SGD(net.parameters(), lr=INITIAL_LR, momentum=MOMENTUM)\n",
    "\n",
    "EPOCHS = 30\n",
    "CHECKPOINT_FOLDER = \"./saved_model\"\n",
    "best_val_acc = 0\n",
    "\n",
    "# Training Loop\n",
    "train_losses = []\n",
    "val_losses = []\n",
    "for i in range(0, EPOCHS):\n",
    "\n",
    "    net.train()\n",
    "\n",
    "    print(\"Epoch %d:\" %i)\n",
    "\n",
    "    total_examples = 0\n",
    "    correct_examples = 0\n",
    "\n",
    "    # Record training loss\n",
    "    train_loss = 0 \n",
    "\n",
    "    # Looping through training loader\n",
    "    for batch_idx, (inputs, targets) in enumerate(train_loader):\n",
    "        ##################\n",
    "        # YOUR CODE HERE #\n",
    "        ##################\n",
    "\n",
    "        # Send input and target to device\n",
    "        inputs, targets = inputs.cuda(), targets.cuda()\n",
    "        # compute the model output logits and training loss\n",
    "        outputs = net(inputs)\n",
    "        loss = criterion(outputs, targets)\n",
    "        # back propogation & optimizer update parametes\n",
    "        optimizer.zero_grad()\n",
    "        loss.backward()\n",
    "        optimizer.step()\n",
    "        # calculate predictions\n",
    "        _, predictions = torch.max(outputs, 1)\n",
    "        correct_examples += (predictions == targets).sum().item()\n",
    "        total_examples += inputs.shape[0]\n",
    "        train_loss += loss.cpu().detach().numpy()\n",
    "\n",
    "    # calculate average training loss and accuracy\n",
    "    avg_loss = train_loss / len(train_loader)\n",
    "    avg_acc = correct_examples / total_examples\n",
    "    print(\"Training loss: %.4f, Training accuracy: %.4f\" %(avg_loss, avg_acc))\n",
    "    train_losses.append(avg_loss)\n",
    "\n",
    "    \n",
    "    # Evaluate the validation set performance\n",
    "    net.eval()\n",
    "\n",
    "    total_examples = 0\n",
    "    correct_examples = 0\n",
    "\n",
    "    # Record validation loss\n",
    "    val_loss = 0\n",
    "\n",
    "    # disable gradient during validation, which can save GPU memory\n",
    "    with torch.no_grad():\n",
    "        for batch_idx, (inputs, targets) in enumerate(val_loader):\n",
    "            ##################\n",
    "            # YOUR CODE HERE #\n",
    "            ##################\n",
    "            \n",
    "            # Send input and target to device\n",
    "            inputs, targets = inputs.cuda(), targets.cuda()\n",
    "            # compute the model output logits and training loss\n",
    "            outputs = net(inputs)\n",
    "            loss = criterion(outputs, targets)\n",
    "            # count the number of correctly predicted samples in the current batch\n",
    "            _, predictions = torch.max(outputs, 1)\n",
    "            correct_examples += (predictions == targets).sum().item()\n",
    "            total_examples += inputs.shape[0]\n",
    "            val_loss += loss.cpu().detach().numpy()\n",
    "\n",
    "    # calculate average validation loss and accuracy\n",
    "    avg_loss = val_loss / len(val_loader)\n",
    "    avg_acc = correct_examples / total_examples\n",
    "    print(\"Validation loss: %.4f, Validation accuracy: %.4f\" % (avg_loss, avg_acc))\n",
    "    val_losses.append(avg_loss)\n",
    "    \n",
    "    # save the model checkpoint\n",
    "    current_learning_rate = optimizer.state_dict()['param_groups'][0]['lr']\n",
    "    if avg_acc > best_val_acc:\n",
    "        best_val_acc = avg_acc\n",
    "\n",
    "        if not os.path.exists(CHECKPOINT_FOLDER):\n",
    "           os.makedirs(CHECKPOINT_FOLDER)\n",
    "        print(\"Saving ...\")\n",
    "        state = {'state_dict': net.state_dict(),\n",
    "                'epoch': i,\n",
    "                'lr': current_learning_rate}\n",
    "        torch.save(state, os.path.join(CHECKPOINT_FOLDER, 'best_model.bin'))\n",
    "\n",
    "    print('')\n",
    "\n",
    "print(f\"Best validation accuracy: {best_val_acc:.4f}\")"
   ]
  },
  {
   "cell_type": "markdown",
   "metadata": {
    "pycharm": {
     "name": "#%% md\n"
    }
   },
   "source": [
    "# (b)"
   ]
  },
  {
   "cell_type": "code",
   "execution_count": 6,
   "metadata": {
    "pycharm": {
     "name": "#%%\n"
    }
   },
   "outputs": [
    {
     "data": {
      "text/plain": [
       "<All keys matched successfully>"
      ]
     },
     "execution_count": 6,
     "metadata": {},
     "output_type": "execute_result"
    }
   ],
   "source": [
    "##################\n",
    "# YOUR CODE HERE #\n",
    "##################\n",
    "\n",
    "# load trained model weight\n",
    "net = SimpleCIFAR10Classifier().cuda()\n",
    "net.load_state_dict(torch.load(os.path.join(CHECKPOINT_FOLDER, 'best_model.bin'))['state_dict'])"
   ]
  },
  {
   "cell_type": "code",
   "execution_count": 7,
   "metadata": {
    "pycharm": {
     "name": "#%%\n"
    }
   },
   "outputs": [
    {
     "name": "stdout",
     "output_type": "stream",
     "text": [
      "Testing accuracy: 0.6512\n"
     ]
    }
   ],
   "source": [
    "##################\n",
    "# YOUR CODE HERE #\n",
    "##################\n",
    "\n",
    "# write another loop to evaluate trained model performance on the test split\n",
    "net.eval()\n",
    "total_examples = 0\n",
    "correct_examples = 0\n",
    "with torch.no_grad():\n",
    "    for batch_idx, (inputs, targets) in enumerate(test_loader):\n",
    "        inputs, targets = inputs.cuda(), targets.cuda()\n",
    "        outputs = net(inputs)\n",
    "        _, predictions = torch.max(outputs, 1)\n",
    "        correct_examples += (predictions == targets).sum().item()\n",
    "        total_examples += inputs.shape[0]\n",
    "\n",
    "avg_acc = correct_examples / total_examples\n",
    "print(\"Testing accuracy: %.4f\" % (avg_acc))"
   ]
  },
  {
   "cell_type": "code",
   "execution_count": 8,
   "metadata": {
    "pycharm": {
     "name": "#%%\n"
    }
   },
   "outputs": [
    {
     "data": {
      "image/png": "[encoded data removed]",
      "text/plain": [
       "<Figure size 640x480 with 1 Axes>"
      ]
     },
     "metadata": {},
     "output_type": "display_data"
    }
   ],
   "source": [
    "##################\n",
    "# YOUR CODE HERE #\n",
    "##################\n",
    "\n",
    "# visualize model loss curves (both train and loss)\n",
    "plt.plot(range(0, EPOCHS), train_losses, color='r')\n",
    "plt.plot(range(0, EPOCHS), val_losses, color='b')\n",
    "plt.xlabel('epoch')\n",
    "plt.ylabel('loss')\n",
    "plt.legend(['training loss', 'validation loss'])\n",
    "plt.show()"
   ]
  },
  {
   "cell_type": "markdown",
   "metadata": {},
   "source": [
    "As can be seen from the above figure, when the epoch increases, the training loss decreases, while the validation loss decreases and then increases, which means that this model is overfitting. By comparing training accuracy and testing accuracy, we can also draw the conclusion of overfitting."
   ]
  },
  {
   "cell_type": "markdown",
   "metadata": {
    "pycharm": {
     "name": "#%% md\n"
    }
   },
   "source": [
    "# (C)"
   ]
  },
  {
   "cell_type": "markdown",
   "metadata": {
    "pycharm": {
     "name": "#%% md\n"
    }
   },
   "source": [
    "### L1 Regularization"
   ]
  },
  {
   "cell_type": "code",
   "execution_count": 9,
   "metadata": {
    "pycharm": {
     "name": "#%%\n"
    },
    "scrolled": true
   },
   "outputs": [
    {
     "name": "stdout",
     "output_type": "stream",
     "text": [
      "Epoch 0:\n",
      "Training loss: 2.0072, Training accuracy: 0.3284\n",
      "Validation loss: 1.5097, Validation accuracy: 0.4496\n",
      "Saving ...\n",
      "\n",
      "Epoch 1:\n",
      "Training loss: 1.5350, Training accuracy: 0.5071\n",
      "Validation loss: 1.2679, Validation accuracy: 0.5592\n",
      "Saving ...\n",
      "\n",
      "Epoch 2:\n",
      "Training loss: 1.3480, Training accuracy: 0.5849\n",
      "Validation loss: 1.1599, Validation accuracy: 0.5884\n",
      "Saving ...\n",
      "\n",
      "Epoch 3:\n",
      "Training loss: 1.2504, Training accuracy: 0.6189\n",
      "Validation loss: 1.1450, Validation accuracy: 0.5996\n",
      "Saving ...\n",
      "\n",
      "Epoch 4:\n",
      "Training loss: 1.1912, Training accuracy: 0.6475\n",
      "Validation loss: 1.0420, Validation accuracy: 0.6408\n",
      "Saving ...\n",
      "\n",
      "Epoch 5:\n",
      "Training loss: 1.1346, Training accuracy: 0.6691\n",
      "Validation loss: 1.0064, Validation accuracy: 0.6468\n",
      "Saving ...\n",
      "\n",
      "Epoch 6:\n",
      "Training loss: 1.1016, Training accuracy: 0.6867\n",
      "Validation loss: 0.9673, Validation accuracy: 0.6588\n",
      "Saving ...\n",
      "\n",
      "Epoch 7:\n",
      "Training loss: 1.0705, Training accuracy: 0.7016\n",
      "Validation loss: 0.9538, Validation accuracy: 0.6688\n",
      "Saving ...\n",
      "\n",
      "Epoch 8:\n",
      "Training loss: 1.0444, Training accuracy: 0.7139\n",
      "Validation loss: 0.9571, Validation accuracy: 0.6774\n",
      "Saving ...\n",
      "\n",
      "Epoch 9:\n",
      "Training loss: 1.0288, Training accuracy: 0.7232\n",
      "Validation loss: 0.9681, Validation accuracy: 0.6638\n",
      "\n",
      "Epoch 10:\n",
      "Training loss: 1.0009, Training accuracy: 0.7353\n",
      "Validation loss: 0.9956, Validation accuracy: 0.6660\n",
      "\n",
      "Epoch 11:\n",
      "Training loss: 0.9881, Training accuracy: 0.7441\n",
      "Validation loss: 0.9653, Validation accuracy: 0.6730\n",
      "\n",
      "Epoch 12:\n",
      "Training loss: 0.9785, Training accuracy: 0.7505\n",
      "Validation loss: 0.9690, Validation accuracy: 0.6764\n",
      "\n",
      "Epoch 13:\n",
      "Training loss: 0.9592, Training accuracy: 0.7598\n",
      "Validation loss: 0.9990, Validation accuracy: 0.6778\n",
      "Saving ...\n",
      "\n",
      "Epoch 14:\n",
      "Training loss: 0.9555, Training accuracy: 0.7657\n",
      "Validation loss: 1.0464, Validation accuracy: 0.6626\n",
      "\n",
      "Epoch 15:\n",
      "Training loss: 0.9368, Training accuracy: 0.7732\n",
      "Validation loss: 0.9986, Validation accuracy: 0.6748\n",
      "\n",
      "Epoch 16:\n",
      "Training loss: 0.9342, Training accuracy: 0.7759\n",
      "Validation loss: 1.0015, Validation accuracy: 0.6704\n",
      "\n",
      "Epoch 17:\n",
      "Training loss: 0.9355, Training accuracy: 0.7780\n",
      "Validation loss: 1.0244, Validation accuracy: 0.6646\n",
      "\n",
      "Epoch 18:\n",
      "Training loss: 0.9214, Training accuracy: 0.7855\n",
      "Validation loss: 0.9922, Validation accuracy: 0.6860\n",
      "Saving ...\n",
      "\n",
      "Epoch 19:\n",
      "Training loss: 0.9120, Training accuracy: 0.7910\n",
      "Validation loss: 1.0662, Validation accuracy: 0.6568\n",
      "\n",
      "Epoch 20:\n",
      "Training loss: 0.9062, Training accuracy: 0.7940\n",
      "Validation loss: 1.0720, Validation accuracy: 0.6708\n",
      "\n",
      "Epoch 21:\n",
      "Training loss: 0.9025, Training accuracy: 0.7981\n",
      "Validation loss: 1.0943, Validation accuracy: 0.6542\n",
      "\n",
      "Epoch 22:\n",
      "Training loss: 0.8958, Training accuracy: 0.8027\n",
      "Validation loss: 1.0644, Validation accuracy: 0.6666\n",
      "\n",
      "Epoch 23:\n",
      "Training loss: 0.8971, Training accuracy: 0.8031\n",
      "Validation loss: 1.0926, Validation accuracy: 0.6724\n",
      "\n",
      "Epoch 24:\n",
      "Training loss: 0.8991, Training accuracy: 0.8035\n",
      "Validation loss: 1.1183, Validation accuracy: 0.6638\n",
      "\n",
      "Epoch 25:\n",
      "Training loss: 0.8935, Training accuracy: 0.8084\n",
      "Validation loss: 1.1439, Validation accuracy: 0.6608\n",
      "\n",
      "Epoch 26:\n",
      "Training loss: 0.8869, Training accuracy: 0.8146\n",
      "Validation loss: 1.1514, Validation accuracy: 0.6614\n",
      "\n",
      "Epoch 27:\n",
      "Training loss: 0.8864, Training accuracy: 0.8167\n",
      "Validation loss: 1.1763, Validation accuracy: 0.6630\n",
      "\n",
      "Epoch 28:\n",
      "Training loss: 0.8788, Training accuracy: 0.8192\n",
      "Validation loss: 1.1614, Validation accuracy: 0.6708\n",
      "\n",
      "Epoch 29:\n",
      "Training loss: 0.8819, Training accuracy: 0.8204\n",
      "Validation loss: 1.1843, Validation accuracy: 0.6654\n",
      "\n",
      "Best validation accuracy: 0.6860\n"
     ]
    }
   ],
   "source": [
    "INITIAL_LR = 0.01\n",
    "net = SimpleCIFAR10Classifier().cuda()\n",
    "MOMENTUM = 0.9\n",
    "criterion = nn.CrossEntropyLoss()\n",
    "optimizer = optim.SGD(net.parameters(), lr=INITIAL_LR, momentum=MOMENTUM)\n",
    "\n",
    "EPOCHS = 30\n",
    "CHECKPOINT_FOLDER = \"./saved_model\"\n",
    "\n",
    "##################\n",
    "# YOUR CODE HERE #\n",
    "##################\n",
    "\n",
    "# set your own L1 regularization weight \n",
    "REG = 1e-4\n",
    "\n",
    "# write training loops with L1 regularization and validation loops (Hint: similar to (a))\n",
    "best_val_acc = 0\n",
    "\n",
    "# Training Loop\n",
    "train_losses = []\n",
    "val_losses = []\n",
    "for i in range(0, EPOCHS):\n",
    "\n",
    "    net.train()\n",
    "\n",
    "    print(\"Epoch %d:\" %i)\n",
    "\n",
    "    total_examples = 0\n",
    "    correct_examples = 0\n",
    "\n",
    "    # Record training loss\n",
    "    train_loss = 0 \n",
    "\n",
    "    # Looping through training loader\n",
    "    for batch_idx, (inputs, targets) in enumerate(train_loader):\n",
    "        # Send input and target to device\n",
    "        inputs, targets = inputs.cuda(), targets.cuda()\n",
    "        # compute the model output logits and training loss\n",
    "        outputs = net(inputs)\n",
    "\n",
    "        # calculate L1 term\n",
    "        L1_term = torch.tensor(0.).cuda()\n",
    "        for name, weights in net.named_parameters():\n",
    "            if 'bias' not in name:\n",
    "                L1_term += torch.norm(weights, 1)\n",
    "\n",
    "        CE_term = criterion(outputs, targets)\n",
    "        loss = CE_term + REG * L1_term\n",
    "\n",
    "        # back propogation & optimizer update parametes\n",
    "        optimizer.zero_grad()\n",
    "        loss.backward()\n",
    "        optimizer.step()\n",
    "        # calculate predictions\n",
    "        _, predictions = torch.max(outputs, 1)\n",
    "        correct_examples += (predictions == targets).sum().item()\n",
    "        total_examples += inputs.shape[0]\n",
    "        train_loss += loss.cpu().detach().numpy()\n",
    "\n",
    "    # calculate average training loss and accuracy\n",
    "    avg_loss = train_loss / len(train_loader)\n",
    "    avg_acc = correct_examples / total_examples\n",
    "    print(\"Training loss: %.4f, Training accuracy: %.4f\" %(avg_loss, avg_acc))\n",
    "    train_losses.append(avg_loss)\n",
    "\n",
    "    \n",
    "    # Evaluate the validation set performance\n",
    "    net.eval()\n",
    "\n",
    "    total_examples = 0\n",
    "    correct_examples = 0\n",
    "\n",
    "    # Record validation loss\n",
    "    val_loss = 0\n",
    "\n",
    "    # disable gradient during validation, which can save GPU memory\n",
    "    with torch.no_grad():\n",
    "        for batch_idx, (inputs, targets) in enumerate(val_loader):\n",
    "            # Send input and target to device\n",
    "            inputs, targets = inputs.cuda(), targets.cuda()\n",
    "            # compute the model output logits and training loss\n",
    "            outputs = net(inputs)\n",
    "            loss = criterion(outputs, targets)\n",
    "            # count the number of correctly predicted samples in the current batch\n",
    "            _, predictions = torch.max(outputs, 1)\n",
    "            correct_examples += (predictions == targets).sum().item()\n",
    "            total_examples += inputs.shape[0]\n",
    "            val_loss += loss.cpu().detach().numpy()\n",
    "\n",
    "    # calculate average validation loss and accuracy\n",
    "    avg_loss = val_loss / len(val_loader)\n",
    "    avg_acc = correct_examples / total_examples\n",
    "    print(\"Validation loss: %.4f, Validation accuracy: %.4f\" % (avg_loss, avg_acc))\n",
    "    val_losses.append(avg_loss)\n",
    "    \n",
    "    # save the model checkpoint\n",
    "    current_learning_rate = optimizer.state_dict()['param_groups'][0]['lr']\n",
    "    if avg_acc > best_val_acc:\n",
    "        best_val_acc = avg_acc\n",
    "\n",
    "        if not os.path.exists(CHECKPOINT_FOLDER):\n",
    "           os.makedirs(CHECKPOINT_FOLDER)\n",
    "        print(\"Saving ...\")\n",
    "        state = {'state_dict': net.state_dict(),\n",
    "                'epoch': i,\n",
    "                'lr': current_learning_rate}\n",
    "        torch.save(state, os.path.join(CHECKPOINT_FOLDER, 'best_model_L1.bin'))\n",
    "\n",
    "    print('')\n",
    "\n",
    "print(f\"Best validation accuracy: {best_val_acc:.4f}\")"
   ]
  },
  {
   "cell_type": "code",
   "execution_count": 10,
   "metadata": {
    "pycharm": {
     "name": "#%%\n"
    }
   },
   "outputs": [
    {
     "data": {
      "text/plain": [
       "<All keys matched successfully>"
      ]
     },
     "execution_count": 10,
     "metadata": {},
     "output_type": "execute_result"
    }
   ],
   "source": [
    "##################\n",
    "# YOUR CODE HERE #\n",
    "##################\n",
    "\n",
    "# load trained model weight\n",
    "net = SimpleCIFAR10Classifier().cuda()\n",
    "net.load_state_dict(torch.load(os.path.join(CHECKPOINT_FOLDER, 'best_model_L1.bin'))['state_dict'])"
   ]
  },
  {
   "cell_type": "code",
   "execution_count": 11,
   "metadata": {
    "pycharm": {
     "name": "#%%\n"
    }
   },
   "outputs": [
    {
     "name": "stdout",
     "output_type": "stream",
     "text": [
      "Testing accuracy: 0.6844\n"
     ]
    }
   ],
   "source": [
    "##################\n",
    "# YOUR CODE HERE #\n",
    "##################\n",
    "\n",
    "# write another loop to evaluate trained model performance on the test split\n",
    "net.eval()\n",
    "total_examples = 0\n",
    "correct_examples = 0\n",
    "with torch.no_grad():\n",
    "    for batch_idx, (inputs, targets) in enumerate(test_loader):\n",
    "        inputs, targets = inputs.cuda(), targets.cuda()\n",
    "        outputs = net(inputs)\n",
    "        _, predictions = torch.max(outputs, 1)\n",
    "        correct_examples += (predictions == targets).sum().item()\n",
    "        total_examples += inputs.shape[0]\n",
    "\n",
    "avg_acc = correct_examples / total_examples\n",
    "print(\"Testing accuracy: %.4f\" % (avg_acc))"
   ]
  },
  {
   "cell_type": "code",
   "execution_count": 12,
   "metadata": {
    "pycharm": {
     "name": "#%%\n"
    }
   },
   "outputs": [
    {
     "data": {
      "image/png": "[encoded data removed]",
      "text/plain": [
       "<Figure size 640x480 with 1 Axes>"
      ]
     },
     "metadata": {},
     "output_type": "display_data"
    }
   ],
   "source": [
    "##################\n",
    "# YOUR CODE HERE #\n",
    "##################\n",
    "\n",
    "# visualize model loss curves (both train and loss)\n",
    "plt.plot(range(0, EPOCHS), train_losses, color='r')\n",
    "plt.plot(range(0, EPOCHS), val_losses, color='b')\n",
    "plt.xlabel('epoch')\n",
    "plt.ylabel('loss')\n",
    "plt.legend(['training loss', 'validation loss'])\n",
    "plt.show()"
   ]
  },
  {
   "cell_type": "markdown",
   "metadata": {},
   "source": [
    "The figure above shows that this model is less overfitting than the model without L1 regularization. And the testing accuracy of this model (0.6844) is larger than the model without L1 regularization (0.6512). Therefore, this model is better."
   ]
  },
  {
   "cell_type": "markdown",
   "metadata": {
    "pycharm": {
     "name": "#%% md\n"
    }
   },
   "source": [
    "### Visualize the model weights"
   ]
  },
  {
   "cell_type": "code",
   "execution_count": 13,
   "metadata": {
    "pycharm": {
     "name": "#%%\n"
    },
    "scrolled": true
   },
   "outputs": [
    {
     "data": {
      "image/png": "[encoded data removed]",
      "text/plain": [
       "<Figure size 1200x700 with 5 Axes>"
      ]
     },
     "metadata": {},
     "output_type": "display_data"
    }
   ],
   "source": [
    "import matplotlib.pyplot as plt\n",
    "plt.figure(figsize=(12,7))\n",
    "plt.subplots_adjust(wspace = 0.4, hspace = 0.4)\n",
    "plt_i = 0\n",
    "for name, module in net.named_modules():\n",
    "    if 'conv' in name or 'fc' in name:\n",
    "        ##################\n",
    "        # YOUR CODE HERE #\n",
    "        ##################\n",
    "      \n",
    "        # extract weight from layers\n",
    "        weight = module.weight.cpu().detach().numpy().flatten()\n",
    "    \n",
    "        # Visualize the weights\n",
    "        plt_i += 1\n",
    "        plt.subplot(230 + plt_i)\n",
    "        _ = plt.hist(weight, bins=20)\n",
    "        plt.title(\"Weight histogram of layer \" + name)\n",
    "plt.show()"
   ]
  },
  {
   "cell_type": "markdown",
   "metadata": {
    "pycharm": {
     "name": "#%% md\n"
    }
   },
   "source": [
    "# (d)"
   ]
  },
  {
   "cell_type": "markdown",
   "metadata": {
    "pycharm": {
     "name": "#%% md\n"
    }
   },
   "source": [
    "### L2 Regularization"
   ]
  },
  {
   "cell_type": "code",
   "execution_count": 14,
   "metadata": {
    "pycharm": {
     "name": "#%%\n"
    },
    "scrolled": true
   },
   "outputs": [
    {
     "name": "stdout",
     "output_type": "stream",
     "text": [
      "Epoch 0:\n",
      "Training loss: 1.8003, Training accuracy: 0.3377\n",
      "Validation loss: 1.4931, Validation accuracy: 0.4670\n",
      "Saving ...\n",
      "\n",
      "Epoch 1:\n",
      "Training loss: 1.3692, Training accuracy: 0.5064\n",
      "Validation loss: 1.3354, Validation accuracy: 0.5248\n",
      "Saving ...\n",
      "\n",
      "Epoch 2:\n",
      "Training loss: 1.1990, Training accuracy: 0.5730\n",
      "Validation loss: 1.1813, Validation accuracy: 0.5764\n",
      "Saving ...\n",
      "\n",
      "Epoch 3:\n",
      "Training loss: 1.0901, Training accuracy: 0.6149\n",
      "Validation loss: 1.0992, Validation accuracy: 0.6090\n",
      "Saving ...\n",
      "\n",
      "Epoch 4:\n",
      "Training loss: 1.0045, Training accuracy: 0.6429\n",
      "Validation loss: 1.0363, Validation accuracy: 0.6386\n",
      "Saving ...\n",
      "\n",
      "Epoch 5:\n",
      "Training loss: 0.9417, Training accuracy: 0.6660\n",
      "Validation loss: 1.0312, Validation accuracy: 0.6464\n",
      "Saving ...\n",
      "\n",
      "Epoch 6:\n",
      "Training loss: 0.8864, Training accuracy: 0.6877\n",
      "Validation loss: 1.0074, Validation accuracy: 0.6474\n",
      "Saving ...\n",
      "\n",
      "Epoch 7:\n",
      "Training loss: 0.8403, Training accuracy: 0.7028\n",
      "Validation loss: 1.0510, Validation accuracy: 0.6424\n",
      "\n",
      "Epoch 8:\n",
      "Training loss: 0.7966, Training accuracy: 0.7190\n",
      "Validation loss: 1.0413, Validation accuracy: 0.6488\n",
      "Saving ...\n",
      "\n",
      "Epoch 9:\n",
      "Training loss: 0.7618, Training accuracy: 0.7339\n",
      "Validation loss: 1.0218, Validation accuracy: 0.6522\n",
      "Saving ...\n",
      "\n",
      "Epoch 10:\n",
      "Training loss: 0.7266, Training accuracy: 0.7451\n",
      "Validation loss: 1.0391, Validation accuracy: 0.6550\n",
      "Saving ...\n",
      "\n",
      "Epoch 11:\n",
      "Training loss: 0.7070, Training accuracy: 0.7504\n",
      "Validation loss: 1.0023, Validation accuracy: 0.6642\n",
      "Saving ...\n",
      "\n",
      "Epoch 12:\n",
      "Training loss: 0.6698, Training accuracy: 0.7624\n",
      "Validation loss: 1.0192, Validation accuracy: 0.6600\n",
      "\n",
      "Epoch 13:\n",
      "Training loss: 0.6457, Training accuracy: 0.7699\n",
      "Validation loss: 1.0219, Validation accuracy: 0.6608\n",
      "\n",
      "Epoch 14:\n",
      "Training loss: 0.6316, Training accuracy: 0.7766\n",
      "Validation loss: 1.0383, Validation accuracy: 0.6626\n",
      "\n",
      "Epoch 15:\n",
      "Training loss: 0.6154, Training accuracy: 0.7820\n",
      "Validation loss: 1.0313, Validation accuracy: 0.6638\n",
      "\n",
      "Epoch 16:\n",
      "Training loss: 0.5845, Training accuracy: 0.7917\n",
      "Validation loss: 1.0596, Validation accuracy: 0.6676\n",
      "Saving ...\n",
      "\n",
      "Epoch 17:\n",
      "Training loss: 0.5693, Training accuracy: 0.7968\n",
      "Validation loss: 1.1095, Validation accuracy: 0.6494\n",
      "\n",
      "Epoch 18:\n",
      "Training loss: 0.5504, Training accuracy: 0.8042\n",
      "Validation loss: 1.0569, Validation accuracy: 0.6740\n",
      "Saving ...\n",
      "\n",
      "Epoch 19:\n",
      "Training loss: 0.5445, Training accuracy: 0.8053\n",
      "Validation loss: 1.0697, Validation accuracy: 0.6554\n",
      "\n",
      "Epoch 20:\n",
      "Training loss: 0.5247, Training accuracy: 0.8130\n",
      "Validation loss: 1.0893, Validation accuracy: 0.6612\n",
      "\n",
      "Epoch 21:\n",
      "Training loss: 0.5156, Training accuracy: 0.8154\n",
      "Validation loss: 1.0968, Validation accuracy: 0.6624\n",
      "\n",
      "Epoch 22:\n",
      "Training loss: 0.4984, Training accuracy: 0.8213\n",
      "Validation loss: 1.1513, Validation accuracy: 0.6476\n",
      "\n",
      "Epoch 23:\n",
      "Training loss: 0.4988, Training accuracy: 0.8212\n",
      "Validation loss: 1.1073, Validation accuracy: 0.6726\n",
      "\n",
      "Epoch 24:\n",
      "Training loss: 0.4839, Training accuracy: 0.8281\n",
      "Validation loss: 1.1281, Validation accuracy: 0.6596\n",
      "\n",
      "Epoch 25:\n",
      "Training loss: 0.4690, Training accuracy: 0.8325\n",
      "Validation loss: 1.1648, Validation accuracy: 0.6530\n",
      "\n",
      "Epoch 26:\n",
      "Training loss: 0.4645, Training accuracy: 0.8341\n",
      "Validation loss: 1.2120, Validation accuracy: 0.6484\n",
      "\n",
      "Epoch 27:\n",
      "Training loss: 0.4596, Training accuracy: 0.8361\n",
      "Validation loss: 1.1712, Validation accuracy: 0.6542\n",
      "\n",
      "Epoch 28:\n",
      "Training loss: 0.4459, Training accuracy: 0.8419\n",
      "Validation loss: 1.2016, Validation accuracy: 0.6516\n",
      "\n",
      "Epoch 29:\n",
      "Training loss: 0.4470, Training accuracy: 0.8407\n",
      "Validation loss: 1.1980, Validation accuracy: 0.6500\n",
      "\n",
      "Best validation accuracy: 0.6740\n"
     ]
    }
   ],
   "source": [
    "INITIAL_LR = 0.01\n",
    "net = SimpleCIFAR10Classifier().cuda()\n",
    "MOMENTUM = 0.9\n",
    "REG = 1e-3\n",
    "criterion = nn.CrossEntropyLoss()\n",
    "EPOCHS = 30\n",
    "CHECKPOINT_FOLDER = \"./saved_model\"\n",
    "\n",
    "##################\n",
    "# YOUR CODE HERE #\n",
    "##################\n",
    "\n",
    "# set your own L2 regularization weight \n",
    "REG = 1e-3 \n",
    "optimizer = optim.SGD(net.parameters(), lr=INITIAL_LR, momentum=MOMENTUM, weight_decay=REG)\n",
    "\n",
    "# write training loops with L2 regularization and validation loops (Hint: similar to (a))\n",
    "best_val_acc = 0\n",
    "\n",
    "# Training Loop\n",
    "train_losses = []\n",
    "val_losses = []\n",
    "for i in range(0, EPOCHS):\n",
    "\n",
    "    net.train()\n",
    "\n",
    "    print(\"Epoch %d:\" %i)\n",
    "\n",
    "    total_examples = 0\n",
    "    correct_examples = 0\n",
    "\n",
    "    # Record training loss\n",
    "    train_loss = 0 \n",
    "\n",
    "    # Looping through training loader\n",
    "    for batch_idx, (inputs, targets) in enumerate(train_loader):\n",
    "        # Send input and target to device\n",
    "        inputs, targets = inputs.cuda(), targets.cuda()\n",
    "        # compute the model output logits and training loss\n",
    "        outputs = net(inputs)\n",
    "        loss = criterion(outputs, targets)\n",
    "        # back propogation & optimizer update parametes\n",
    "        optimizer.zero_grad()\n",
    "        loss.backward()\n",
    "        optimizer.step()\n",
    "        # calculate predictions\n",
    "        _, predictions = torch.max(outputs, 1)\n",
    "        correct_examples += (predictions == targets).sum().item()\n",
    "        total_examples += inputs.shape[0]\n",
    "        train_loss += loss.cpu().detach().numpy()\n",
    "\n",
    "    # calculate average training loss and accuracy\n",
    "    avg_loss = train_loss / len(train_loader)\n",
    "    avg_acc = correct_examples / total_examples\n",
    "    print(\"Training loss: %.4f, Training accuracy: %.4f\" %(avg_loss, avg_acc))\n",
    "    train_losses.append(avg_loss)\n",
    "\n",
    "    \n",
    "    # Evaluate the validation set performance\n",
    "    net.eval()\n",
    "\n",
    "    total_examples = 0\n",
    "    correct_examples = 0\n",
    "\n",
    "    # Record validation loss\n",
    "    val_loss = 0\n",
    "\n",
    "    # disable gradient during validation, which can save GPU memory\n",
    "    with torch.no_grad():\n",
    "        for batch_idx, (inputs, targets) in enumerate(val_loader):\n",
    "            # Send input and target to device\n",
    "            inputs, targets = inputs.cuda(), targets.cuda()\n",
    "            # compute the model output logits and training loss\n",
    "            outputs = net(inputs)\n",
    "            loss = criterion(outputs, targets)\n",
    "            # count the number of correctly predicted samples in the current batch\n",
    "            _, predictions = torch.max(outputs, 1)\n",
    "            correct_examples += (predictions == targets).sum().item()\n",
    "            total_examples += inputs.shape[0]\n",
    "            val_loss += loss.cpu().detach().numpy()\n",
    "\n",
    "    # calculate average validation loss and accuracy\n",
    "    avg_loss = val_loss / len(val_loader)\n",
    "    avg_acc = correct_examples / total_examples\n",
    "    print(\"Validation loss: %.4f, Validation accuracy: %.4f\" % (avg_loss, avg_acc))\n",
    "    val_losses.append(avg_loss)\n",
    "    \n",
    "    # save the model checkpoint\n",
    "    current_learning_rate = optimizer.state_dict()['param_groups'][0]['lr']\n",
    "    if avg_acc > best_val_acc:\n",
    "        best_val_acc = avg_acc\n",
    "\n",
    "        if not os.path.exists(CHECKPOINT_FOLDER):\n",
    "           os.makedirs(CHECKPOINT_FOLDER)\n",
    "        print(\"Saving ...\")\n",
    "        state = {'state_dict': net.state_dict(),\n",
    "                'epoch': i,\n",
    "                'lr': current_learning_rate}\n",
    "        torch.save(state, os.path.join(CHECKPOINT_FOLDER, 'best_model_L2.bin'))\n",
    "\n",
    "    print('')\n",
    "\n",
    "print(f\"Best validation accuracy: {best_val_acc:.4f}\")"
   ]
  },
  {
   "cell_type": "code",
   "execution_count": 15,
   "metadata": {
    "pycharm": {
     "name": "#%%\n"
    },
    "scrolled": true
   },
   "outputs": [
    {
     "data": {
      "text/plain": [
       "<All keys matched successfully>"
      ]
     },
     "execution_count": 15,
     "metadata": {},
     "output_type": "execute_result"
    }
   ],
   "source": [
    "##################\n",
    "# YOUR CODE HERE #\n",
    "##################\n",
    "\n",
    "# load trained model weight\n",
    "net = SimpleCIFAR10Classifier().cuda()\n",
    "net.load_state_dict(torch.load(os.path.join(CHECKPOINT_FOLDER, 'best_model_L2.bin'))['state_dict'])"
   ]
  },
  {
   "cell_type": "code",
   "execution_count": 16,
   "metadata": {
    "pycharm": {
     "name": "#%%\n"
    }
   },
   "outputs": [
    {
     "name": "stdout",
     "output_type": "stream",
     "text": [
      "Testing accuracy: 0.6702\n"
     ]
    }
   ],
   "source": [
    "##################\n",
    "# YOUR CODE HERE #\n",
    "##################\n",
    "\n",
    "# write another loop to evaluate trained model performance on the test split\n",
    "net.eval()\n",
    "total_examples = 0\n",
    "correct_examples = 0\n",
    "with torch.no_grad():\n",
    "    for batch_idx, (inputs, targets) in enumerate(test_loader):\n",
    "        inputs, targets = inputs.cuda(), targets.cuda()\n",
    "        outputs = net(inputs)\n",
    "        _, predictions = torch.max(outputs, 1)\n",
    "        correct_examples += (predictions == targets).sum().item()\n",
    "        total_examples += inputs.shape[0]\n",
    "\n",
    "avg_acc = correct_examples / total_examples\n",
    "print(\"Testing accuracy: %.4f\" % (avg_acc))"
   ]
  },
  {
   "cell_type": "code",
   "execution_count": 17,
   "metadata": {
    "pycharm": {
     "name": "#%%\n"
    }
   },
   "outputs": [
    {
     "data": {
      "image/png": "[encoded data removed]",
      "text/plain": [
       "<Figure size 640x480 with 1 Axes>"
      ]
     },
     "metadata": {},
     "output_type": "display_data"
    }
   ],
   "source": [
    "##################\n",
    "# YOUR CODE HERE #\n",
    "##################\n",
    "\n",
    "# visualize model loss curves (both train and loss)\n",
    "plt.plot(range(0, EPOCHS), train_losses, color='r')\n",
    "plt.plot(range(0, EPOCHS), val_losses, color='b')\n",
    "plt.xlabel('epoch')\n",
    "plt.ylabel('loss')\n",
    "plt.legend(['training loss', 'validation loss'])\n",
    "plt.show()"
   ]
  },
  {
   "cell_type": "markdown",
   "metadata": {
    "pycharm": {
     "name": "#%% md\n"
    }
   },
   "source": [
    "### Visualize the model weights"
   ]
  },
  {
   "cell_type": "code",
   "execution_count": 18,
   "metadata": {
    "pycharm": {
     "name": "#%%\n"
    },
    "scrolled": true
   },
   "outputs": [
    {
     "data": {
      "image/png": "[encoded data removed]",
      "text/plain": [
       "<Figure size 1200x700 with 5 Axes>"
      ]
     },
     "metadata": {},
     "output_type": "display_data"
    }
   ],
   "source": [
    "import matplotlib.pyplot as plt\n",
    "plt.figure(figsize=(12,7))\n",
    "plt.subplots_adjust(wspace = 0.4, hspace = 0.4)\n",
    "plt_i = 0\n",
    "for name, module in net.named_modules():\n",
    "    if 'conv' in name or 'fc' in name:\n",
    "        ##################\n",
    "        # YOUR CODE HERE #\n",
    "        ##################\n",
    "      \n",
    "        # extract weight from layers\n",
    "        weight = module.weight.cpu().detach().numpy().flatten()\n",
    "    \n",
    "        # Visualize the weights\n",
    "        plt_i += 1\n",
    "        plt.subplot(230 + plt_i)\n",
    "        _ = plt.hist(weight, bins=20)\n",
    "        plt.title(\"Weight histogram of layer \"+name)\n",
    "plt.show()"
   ]
  },
  {
   "cell_type": "markdown",
   "metadata": {
    "pycharm": {
     "name": "#%% md\n"
    }
   },
   "source": [
    "# (e)"
   ]
  },
  {
   "cell_type": "markdown",
   "metadata": {
    "pycharm": {
     "name": "#%%\n"
    }
   },
   "source": [
    "### comment on the differences between L1 and L2 regularization. \n",
    "#### The weight histograms for L1 regularization exhibit sharp spikes at zero, while the weights for L2 regularization are more evenly spread around zero. \n",
    "#### Effects on model weights: L1 regularization penalizes the absolute value of the weights, which compels the model to be sparse; while L2 penalizes the square of the weights, which encourages tiny weights but doesn't impose sparsity.\n",
    "#### Effects on model performance: L1 Regularization sets many weights to zero, which lead to a simpler model. It works well if the dataset has irrelevant or redundant features. In comparison, L2 Regularization keeps more features, potentially improving model performance; nevertheless, failure to properly adjust the REG increases the danger of overfitting."
   ]
  }
 ],
 "metadata": {
  "accelerator": "GPU",
  "colab": {
   "collapsed_sections": [
    "b11t8AObPAG_",
    "Zk2ykaHlSgZ5",
    "1Pz5T6QRWQ92"
   ],
   "gpuType": "T4",
   "provenance": []
  },
  "kernelspec": {
   "display_name": "Python 3 (ipykernel)",
   "language": "python",
   "name": "python3"
  },
  "language_info": {
   "codemirror_mode": {
    "name": "ipython",
    "version": 3
   },
   "file_extension": ".py",
   "mimetype": "text/x-python",
   "name": "python",
   "nbconvert_exporter": "python",
   "pygments_lexer": "ipython3",
   "version": "3.10.11"
  }
 },
 "nbformat": 4,
 "nbformat_minor": 4
}
