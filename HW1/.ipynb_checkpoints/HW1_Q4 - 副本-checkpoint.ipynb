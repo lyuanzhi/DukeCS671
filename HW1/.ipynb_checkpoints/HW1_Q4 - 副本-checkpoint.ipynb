{
 "cells": [
  {
   "cell_type": "markdown",
   "id": "31398a4b-b4d6-4a85-baed-b5ac61356536",
   "metadata": {},
   "source": [
    "# Q4 Classifiers and Metrics"
   ]
  },
  {
   "cell_type": "markdown",
   "id": "d0c93245-c00a-48f9-a270-7e89f30ca30e",
   "metadata": {},
   "source": [
    "## Initialization"
   ]
  },
  {
   "cell_type": "code",
   "execution_count": 1,
   "id": "b032f372-112c-4a76-88b4-e45426e59689",
   "metadata": {},
   "outputs": [],
   "source": [
    "import numpy as np\n",
    "import matplotlib.pyplot as plt\n",
    "\n",
    "# feature vector x including Age, likeRowing, Experience, and Income\n",
    "x = np.array([\n",
    "    [20, 1, 0, 20],\n",
    "    [18, 1, 1, 33],\n",
    "    [11, 0, 1, 21],\n",
    "    [31, 0, 0, 9],\n",
    "    [22, 1, 1, 7],\n",
    "    [21, 1, 0, 10],\n",
    "    [13, 1, 0, 23],\n",
    "    [15, 1, 1, 16],\n",
    "    [16, 0, 1, 15],\n",
    "    [17, 1, 0, 6]\n",
    "])\n",
    "\n",
    "# binary label y\n",
    "y = np.array([\n",
    "    [0],\n",
    "    [0],\n",
    "    [1],\n",
    "    [1],\n",
    "    [1],\n",
    "    [0],\n",
    "    [1],\n",
    "    [0],\n",
    "    [1],\n",
    "    [0]\n",
    "])\n",
    "\n",
    "# parameters\n",
    "theta = np.array([[0.05, -3, 2.1, 0.008]])\n",
    "theta0 =  0.3"
   ]
  },
  {
   "cell_type": "markdown",
   "id": "0b9d8547-93ac-4061-b109-da9a5a50b558",
   "metadata": {},
   "source": [
    "## (a)"
   ]
  },
  {
   "cell_type": "code",
   "execution_count": 2,
   "id": "6fd72261-a4e3-4f9b-9001-a361267aeaa9",
   "metadata": {},
   "outputs": [
    {
     "name": "stdout",
     "output_type": "stream",
     "text": [
      "g(x)=\n",
      " [[-1.54 ]\n",
      " [ 0.564]\n",
      " [ 3.118]\n",
      " [ 1.922]\n",
      " [ 0.556]\n",
      " [-1.57 ]\n",
      " [-1.866]\n",
      " [ 0.278]\n",
      " [ 3.32 ]\n",
      " [-1.802]]\n",
      "minimized (mis)classification error for g(x) = 2.0 ; largest threshold value for g(x) = 1.922\n"
     ]
    }
   ],
   "source": [
    "# linear classifier g(x)\n",
    "g = x @ theta.T + theta0\n",
    "print('g(x)=\\n', g)\n",
    "\n",
    "# select the largest threshold value\n",
    "g_binary = np.zeros((10, 1))\n",
    "threshold = -2\n",
    "error_min_g = 10\n",
    "threshold_max = -2\n",
    "while threshold <= 4:\n",
    "    g_binary[g < threshold] = 0\n",
    "    g_binary[g >= threshold] = 1\n",
    "    error = np.sum(np.abs(g_binary - y))\n",
    "    if error_min_g >= error:\n",
    "        error_min_g = error\n",
    "        threshold_max = threshold\n",
    "    threshold += 0.001\n",
    "print('minimized (mis)classification error for g(x) =', error_min_g, '; largest threshold value for g(x) =', format(threshold_max, '.3f'))"
   ]
  },
  {
   "cell_type": "markdown",
   "id": "e1b4304e-20b5-454d-a230-9cd9fab0be00",
   "metadata": {},
   "source": [
    "## (b)"
   ]
  },
  {
   "cell_type": "code",
   "execution_count": 3,
   "id": "96fb88c9-707c-4f0e-a109-85f838b12475",
   "metadata": {},
   "outputs": [
    {
     "name": "stdout",
     "output_type": "stream",
     "text": [
      "f(x)=\n",
      " [[-0.91212037]\n",
      " [ 0.51093923]\n",
      " [ 0.99609231]\n",
      " [ 0.95808178]\n",
      " [ 0.50500357]\n",
      " [-0.91702576]\n",
      " [-0.9532301 ]\n",
      " [ 0.27105303]\n",
      " [ 0.99738936]\n",
      " [-0.94701274]]\n",
      "minimized (mis)classification error for f(x) = 2.0 ; largest threshold value for f(x) = 0.958\n",
      "confusion matrix=\n",
      " [[3. 0.]\n",
      " [2. 5.]]\n",
      "precision = 1.0\n",
      "recall = 0.6\n",
      "F1 score = 0.7499999999999999\n"
     ]
    }
   ],
   "source": [
    "# define tanh\n",
    "def tanh(z):\n",
    "    return (np.exp(z) - np.exp(-z)) / (np.exp(z) + np.exp(-z))\n",
    "\n",
    "# non-linear classifier f(x)\n",
    "f = tanh(x @ theta.T + theta0)\n",
    "print('f(x)=\\n', f)\n",
    "\n",
    "# select the largest threshold value\n",
    "f_binary = np.zeros((10, 1))\n",
    "f_binary_for_max_threshold = np.zeros((10, 1))\n",
    "threshold = -1\n",
    "error_min_f = 10\n",
    "threshold_max = -1\n",
    "while threshold <= 1:\n",
    "    f_binary[f < threshold] = 0\n",
    "    f_binary[f >= threshold] = 1\n",
    "    error = np.sum(np.abs(f_binary - y))\n",
    "    if error_min_f >= error:\n",
    "        error_min_f = error\n",
    "        threshold_max = threshold\n",
    "        f_binary_for_max_threshold = f_binary.copy()\n",
    "    threshold += 0.001\n",
    "print('minimized (mis)classification error for f(x) =', error_min_f, '; largest threshold value for f(x) =', format(threshold_max, '.3f'))\n",
    "\n",
    "# confusion matrix\n",
    "confusion_matrix = np.zeros((2, 2))\n",
    "for i in range(10):\n",
    "    # print(y[i], f_binary_for_max_threshold[i])\n",
    "    if y[i] == 1 and f_binary_for_max_threshold[i] == 1:\n",
    "        confusion_matrix[0][0] += 1\n",
    "    elif y[i] == 1 and f_binary_for_max_threshold[i] == 0:\n",
    "        confusion_matrix[1][0] += 1\n",
    "    elif y[i] == 0 and f_binary_for_max_threshold[i] == 1:\n",
    "        confusion_matrix[0][1] += 1\n",
    "    elif y[i] == 0 and f_binary_for_max_threshold[i] == 0:\n",
    "        confusion_matrix[1][1] += 1\n",
    "print('confusion matrix=\\n', confusion_matrix)\n",
    "# precision\n",
    "precision = confusion_matrix[0][0] / (confusion_matrix[0][0] + confusion_matrix[0][1])\n",
    "print('precision =', precision)\n",
    "# recall\n",
    "recall = confusion_matrix[0][0] / (confusion_matrix[0][0] + confusion_matrix[1][0])\n",
    "print('recall =', recall)\n",
    "# F1 score\n",
    "F1 = 2 * precision * recall / (precision + recall)\n",
    "print('F1 score =', F1)"
   ]
  },
  {
   "cell_type": "markdown",
   "id": "42535079-21cf-42b4-9fd0-863528cf917d",
   "metadata": {},
   "source": [
    "## (c)"
   ]
  },
  {
   "cell_type": "code",
   "execution_count": 4,
   "id": "e15b3077-1124-4edb-87d5-e61abc7f993d",
   "metadata": {},
   "outputs": [
    {
     "data": {
      "image/png": "[encoded data removed]",
      "text/plain": [
       "<Figure size 640x480 with 1 Axes>"
      ]
     },
     "metadata": {},
     "output_type": "display_data"
    },
    {
     "data": {
      "image/png": "[encoded data removed]",
      "text/plain": [
       "<Figure size 640x480 with 1 Axes>"
      ]
     },
     "metadata": {},
     "output_type": "display_data"
    }
   ],
   "source": [
    "# plot ROC curve for g(x)\n",
    "decision_boundary = -2\n",
    "g_predicted = np.zeros((10, 1))\n",
    "FPRs_g = []\n",
    "TPRs_g = []\n",
    "FPRs_min_err_g = []\n",
    "TPRs_min_err_g = []\n",
    "while decision_boundary <= 4:\n",
    "    g_predicted[g < decision_boundary] = 0\n",
    "    g_predicted[g >= decision_boundary] = 1\n",
    "    confusion_matrix_g = np.zeros((2, 2))\n",
    "    for i in range(10):\n",
    "        if y[i] == 1 and g_predicted[i] == 1:\n",
    "            confusion_matrix_g[0][0] += 1\n",
    "        elif y[i] == 1 and g_predicted[i] == 0:\n",
    "            confusion_matrix_g[1][0] += 1\n",
    "        elif y[i] == 0 and g_predicted[i] == 1:\n",
    "            confusion_matrix_g[0][1] += 1\n",
    "        elif y[i] == 0 and g_predicted[i] == 0:\n",
    "            confusion_matrix_g[1][1] += 1\n",
    "    decision_boundary += 0.001\n",
    "    FPR_g = confusion_matrix_g[0][1] / (confusion_matrix_g[0][1] + confusion_matrix_g[1][1])\n",
    "    TPR_g = confusion_matrix_g[0][0] / (confusion_matrix_g[0][0] + confusion_matrix_g[1][0])\n",
    "    FPRs_g.append(FPR_g)\n",
    "    TPRs_g.append(TPR_g)\n",
    "    err = np.sum(np.abs(g_predicted - y))\n",
    "    if err == error_min_g:\n",
    "        FPRs_min_err_g.append(FPR_g)\n",
    "        TPRs_min_err_g.append(TPR_g)\n",
    "\n",
    "# plot the points that represent decision points with the minimum classification error\n",
    "plt.scatter(FPRs_min_err_g, TPRs_min_err_g, color='r')\n",
    "# plot ROC curve\n",
    "plt.plot(FPRs_g, TPRs_g, color='b')\n",
    "plt.title('ROC curve for g(x)')\n",
    "plt.xlabel('FPR')\n",
    "plt.ylabel('TPR')\n",
    "plt.show()\n",
    "\n",
    "###########################################\n",
    "# plot ROC curve for f(x)\n",
    "decision_boundary = -1\n",
    "f_predicted = np.zeros((10, 1))\n",
    "FPRs_f = []\n",
    "TPRs_f = []\n",
    "FPRs_min_err_f = []\n",
    "TPRs_min_err_f = []\n",
    "while decision_boundary <= 1:\n",
    "    f_predicted[f < decision_boundary] = 0\n",
    "    f_predicted[f >= decision_boundary] = 1\n",
    "    confusion_matrix_f = np.zeros((2, 2))\n",
    "    for i in range(10):\n",
    "        if y[i] == 1 and f_predicted[i] == 1:\n",
    "            confusion_matrix_f[0][0] += 1\n",
    "        elif y[i] == 1 and f_predicted[i] == 0:\n",
    "            confusion_matrix_f[1][0] += 1\n",
    "        elif y[i] == 0 and f_predicted[i] == 1:\n",
    "            confusion_matrix_f[0][1] += 1\n",
    "        elif y[i] == 0 and f_predicted[i] == 0:\n",
    "            confusion_matrix_f[1][1] += 1\n",
    "    decision_boundary += 0.001\n",
    "    FPR_f = confusion_matrix_f[0][1] / (confusion_matrix_f[0][1] + confusion_matrix_f[1][1])\n",
    "    TPR_f = confusion_matrix_f[0][0] / (confusion_matrix_f[0][0] + confusion_matrix_f[1][0])\n",
    "    FPRs_f.append(FPR_f)\n",
    "    TPRs_f.append(TPR_f)\n",
    "    err = np.sum(np.abs(f_predicted - y))\n",
    "    if err == error_min_f:\n",
    "        FPRs_min_err_f.append(FPR_f)\n",
    "        TPRs_min_err_f.append(TPR_f)\n",
    "\n",
    "# plot the points that represent decision points with the minimum classification error\n",
    "plt.scatter(FPRs_min_err_f, TPRs_min_err_f, color='r')\n",
    "# plot ROC curve\n",
    "plt.plot(FPRs_f, TPRs_f, color='b')\n",
    "plt.title('ROC curve for f(x)')\n",
    "plt.xlabel('FPR')\n",
    "plt.ylabel('TPR')\n",
    "plt.show()"
   ]
  },
  {
   "cell_type": "markdown",
   "id": "c8471d1e-ab8d-459d-908f-bf55bb66fa45",
   "metadata": {},
   "source": [
    "## (d)"
   ]
  },
  {
   "cell_type": "code",
   "execution_count": 5,
   "id": "25f55ecf-5b08-46f4-bedd-f2213cf3f34c",
   "metadata": {},
   "outputs": [
    {
     "name": "stdout",
     "output_type": "stream",
     "text": [
      "AUC of g(x) =  0.76\n",
      "AUC of f(x) =  0.76\n"
     ]
    }
   ],
   "source": [
    "# AUC for g(x) and f(x)\n",
    "y_pos_ind = np.where(y == 1)[0]\n",
    "y_neg_ind = np.where(y == 0)[0]\n",
    "AUC_g = 0\n",
    "AUC_f = 0\n",
    "for i in y_pos_ind:\n",
    "    for k in y_neg_ind:\n",
    "        if g[i][0] > g[k][0]:\n",
    "            AUC_g += 1\n",
    "        if f[i][0] > f[k][0]:\n",
    "            AUC_f += 1\n",
    "AUC_g /= len(y_pos_ind) * len(y_neg_ind)\n",
    "AUC_f /= len(y_pos_ind) * len(y_neg_ind)\n",
    "print('AUC of g(x) = ', AUC_g)\n",
    "print('AUC of f(x) = ', AUC_f)"
   ]
  }
 ],
 "metadata": {
  "kernelspec": {
   "display_name": "Python 3 (ipykernel)",
   "language": "python",
   "name": "python3"
  },
  "language_info": {
   "codemirror_mode": {
    "name": "ipython",
    "version": 3
   },
   "file_extension": ".py",
   "mimetype": "text/x-python",
   "name": "python",
   "nbconvert_exporter": "python",
   "pygments_lexer": "ipython3",
   "version": "3.11.5"
  }
 },
 "nbformat": 4,
 "nbformat_minor": 5
}
